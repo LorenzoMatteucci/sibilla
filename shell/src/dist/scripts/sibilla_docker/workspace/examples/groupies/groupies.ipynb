{
 "cells": [
  {
   "cell_type": "markdown",
   "id": "3b90aad3-1244-49da-8c6c-de4a78e71210",
   "metadata": {},
   "source": [
    "# Setup"
   ]
  },
  {
   "cell_type": "code",
   "execution_count": null,
   "id": "6e9048ed-c211-42b3-99b6-9541191239ab",
   "metadata": {},
   "outputs": [],
   "source": [
    "import sibilla\n",
    "import matplotlib.pyplot as plt\n",
    "\n",
    "def plot(title, keys, res):\n",
    "    fig = plt.figure(figsize=(21, 9))\n",
    "    fig.suptitle(title)\n",
    "    for i, k in enumerate(keys):\n",
    "        c_plot = fig.add_subplot(2, 2, i+1)\n",
    "        c_plot.plot(\n",
    "            [l[0] for l in res[k]], \n",
    "            [l[1] for l in res[k]], \n",
    "            label = k\n",
    "        )\n",
    "        c_plot.set_ylabel(\"Mean\")\n",
    "        c_plot.set_xlabel(\"Sample Time\")\n",
    "        c_plot.legend()\n",
    "    fig.show()\n",
    "\n",
    "def plot_descriptive(title, keys, res):\n",
    "    fig = plt.figure(figsize=(21, 9))\n",
    "    fig.suptitle(title)\n",
    "    for i, k in enumerate(keys):\n",
    "        c_plot = fig.add_subplot(2, 2, i+1)\n",
    "        c_plot.plot(\n",
    "            [l[0] for l in res[k]], \n",
    "            [(l[3], l[2], l[4], l[6], l[5]) for l in res[k]], \n",
    "            label = k\n",
    "        )\n",
    "        c_plot.set_title(k)\n",
    "        c_plot.set_ylabel(\"Value\")\n",
    "        c_plot.set_xlabel(\"Sample Time\")\n",
    "        c_plot.legend(['Min', 'First Quartile', 'Median', 'Third Quartile', 'Max'])\n",
    "    fig.show()"
   ]
  },
  {
   "cell_type": "markdown",
   "id": "629e1a8f-136c-4c19-9468-256552fbd13b",
   "metadata": {},
   "source": [
    "# Loading population module"
   ]
  },
  {
   "cell_type": "code",
   "execution_count": null,
   "id": "189c6b24-c933-4f68-ae91-2810d152ffcf",
   "metadata": {},
   "outputs": [],
   "source": [
    "sibilla_runtime = sibilla.SibillaRuntime()\n",
    "sibilla_runtime.load_module(\"population\")"
   ]
  },
  {
   "cell_type": "markdown",
   "id": "36b4994b-e68f-4f25-a678-cb85bec27921",
   "metadata": {},
   "source": [
    "# Groupies model simulation"
   ]
  },
  {
   "cell_type": "code",
   "execution_count": null,
   "id": "738045e5-3cbf-41b7-a794-f8158cf4ef85",
   "metadata": {},
   "outputs": [],
   "source": [
    "sibilla_runtime.load_from_file(\"groupies.pm\")\n",
    "sibilla_runtime.set_configuration(\"balanced\")\n",
    "sibilla_runtime.add_all_measures()\n",
    "sibilla_runtime.set_deadline(100)\n",
    "sibilla_runtime.set_dt(1.0)\n",
    "sibilla_runtime.set_replica(1000)\n",
    "res = sibilla_runtime.simulate(\"\")\n",
    "sibilla_runtime.save(\"results\", \"groupies_summary_\", \"__\")\n",
    "plot('Population Number', [\"#A\", \"#B\"], res)\n",
    "plot('Population Percentage', [\"%A\", \"%B\"], res)"
   ]
  },
  {
   "cell_type": "markdown",
   "id": "2fb9bdff-0aee-41bc-b234-dee3ef06e937",
   "metadata": {},
   "source": [
    "### Enabling descriptive statistics and resimulating"
   ]
  },
  {
   "cell_type": "code",
   "execution_count": null,
   "id": "146c789e-634b-468d-89df-54d8643288f7",
   "metadata": {},
   "outputs": [],
   "source": [
    "sibilla_runtime.use_descriptive_statistics()\n",
    "res = sibilla_runtime.simulate(\"\")\n",
    "plot_descriptive('Population Number', [\"#A\", \"#B\"], res)\n",
    "plot_descriptive('Population Percentage', [\"%A\", \"%B\"], res)\n",
    "sibilla_runtime.save(\"results\", \"groupies_descriptive_\", \"__\")"
   ]
  },
  {
   "cell_type": "markdown",
   "id": "aa21e64b-c080-4617-a8af-29f84db16f7a",
   "metadata": {},
   "source": [
    "# Groupies2 model simulation"
   ]
  },
  {
   "cell_type": "code",
   "execution_count": null,
   "id": "5103d042-8006-45ad-a16d-f7382885d162",
   "metadata": {},
   "outputs": [],
   "source": [
    "sibilla_runtime.load_from_file(\"groupies2.pm\")\n",
    "sibilla_runtime.set_configuration(\"balanced\")\n",
    "sibilla_runtime.use_summary_statistics()\n",
    "res = sibilla_runtime.simulate(\"\")\n",
    "plot('Population Number', [\"#A\", \"#B\"], res)\n",
    "plot('Population Percentage', [\"%A\", \"%B\"], res)\n",
    "sibilla_runtime.save(\"results\", \"groupies2_summary_\", \"__\")"
   ]
  },
  {
   "cell_type": "markdown",
   "id": "6d35a7b8-342b-4997-886d-0bacdf6aec81",
   "metadata": {},
   "source": [
    "### Enabling descriptive statistics and resimulating"
   ]
  },
  {
   "cell_type": "code",
   "execution_count": null,
   "id": "9e0fb55e-ecbe-4bec-b135-034669340e4c",
   "metadata": {},
   "outputs": [],
   "source": [
    "sibilla_runtime.use_descriptive_statistics()\n",
    "res = sibilla_runtime.simulate(\"\")\n",
    "plot_descriptive('Population Number', [\"#A\", \"#B\"], res)\n",
    "plot_descriptive('Population Percentage', [\"%A\", \"%B\"], res)\n",
    "sibilla_runtime.save(\"results\", \"groupies2_descriptive_\", \"__\")"
   ]
  },
  {
   "cell_type": "markdown",
   "id": "22c06e19-fe97-4da9-92a0-daf7f6922586",
   "metadata": {},
   "source": [
    "# Celebr model simulation"
   ]
  },
  {
   "cell_type": "code",
   "execution_count": null,
   "id": "e171b38f-fbab-43fb-abe3-36b4c406184e",
   "metadata": {},
   "outputs": [],
   "source": [
    "sibilla_runtime.load_from_file(\"celebr.pm\")\n",
    "sibilla_runtime.set_configuration(\"balanced\")\n",
    "sibilla_runtime.use_summary_statistics()\n",
    "res = sibilla_runtime.simulate(\"\")\n",
    "plot('Population Number', [\"#A\", \"#B\"], res)\n",
    "plot('Population Percentage', [\"%A\", \"%B\"], res)\n",
    "sibilla_runtime.save(\"results\", \"celebr_summary_\", \"__\")"
   ]
  },
  {
   "cell_type": "markdown",
   "id": "087b5cf6-bd2f-48e5-8c63-28b284099980",
   "metadata": {},
   "source": [
    "### Enabling descriptive statistics and resimulating"
   ]
  },
  {
   "cell_type": "code",
   "execution_count": null,
   "id": "0820ebee-6cf5-4e7e-823c-f59987749def",
   "metadata": {},
   "outputs": [],
   "source": [
    "sibilla_runtime.use_descriptive_statistics()\n",
    "res = sibilla_runtime.simulate(\"\")\n",
    "plot_descriptive('Population Number', [\"#A\", \"#B\"], res)\n",
    "plot_descriptive('Population Percentage', [\"%A\", \"%B\"], res)\n",
    "sibilla_runtime.save(\"results\", \"celebr_descriptive_\", \"__\")"
   ]
  },
  {
   "cell_type": "code",
   "execution_count": null,
   "id": "f7b4bd72-9094-4186-bb26-8d9b3b1b1591",
   "metadata": {},
   "outputs": [],
   "source": []
  }
 ],
 "metadata": {
  "kernelspec": {
   "display_name": "Python 3 (ipykernel)",
   "language": "python",
   "name": "python3"
  },
  "language_info": {
   "codemirror_mode": {
    "name": "ipython",
    "version": 3
   },
   "file_extension": ".py",
   "mimetype": "text/x-python",
   "name": "python",
   "nbconvert_exporter": "python",
   "pygments_lexer": "ipython3",
   "version": "3.10.1"
  }
 },
 "nbformat": 4,
 "nbformat_minor": 5
}
