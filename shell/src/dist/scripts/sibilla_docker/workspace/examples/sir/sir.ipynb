{
 "cells": [
  {
   "cell_type": "markdown",
   "id": "3b90aad3-1244-49da-8c6c-de4a78e71210",
   "metadata": {},
   "source": [
    "# Importing sibilla"
   ]
  },
  {
   "cell_type": "code",
   "execution_count": null,
   "id": "6e9048ed-c211-42b3-99b6-9541191239ab",
   "metadata": {},
   "outputs": [],
   "source": [
    "import sibilla"
   ]
  },
  {
   "cell_type": "markdown",
   "id": "629e1a8f-136c-4c19-9468-256552fbd13b",
   "metadata": {},
   "source": [
    "# Configuring simulation"
   ]
  },
  {
   "cell_type": "code",
   "execution_count": null,
   "id": "189c6b24-c933-4f68-ae91-2810d152ffcf",
   "metadata": {},
   "outputs": [],
   "source": [
    "sibilla_runtime = sibilla.SibillaRuntime()\n",
    "sibilla_runtime.load_module(\"population\")\n",
    "sibilla_runtime.load_from_file(\"sir.pm\")\n",
    "sibilla_runtime.set_configuration(\"init\")\n",
    "sibilla_runtime.add_all_measures()\n",
    "sibilla_runtime.set_deadline(100)\n",
    "sibilla_runtime.set_dt(1.0)\n",
    "sibilla_runtime.set_replica(100)"
   ]
  },
  {
   "cell_type": "markdown",
   "id": "36b4994b-e68f-4f25-a678-cb85bec27921",
   "metadata": {},
   "source": [
    "# Starting simulation"
   ]
  },
  {
   "cell_type": "code",
   "execution_count": null,
   "id": "738045e5-3cbf-41b7-a794-f8158cf4ef85",
   "metadata": {},
   "outputs": [],
   "source": [
    "res = sibilla_runtime.simulate(\"\")"
   ]
  },
  {
   "cell_type": "markdown",
   "id": "039cccae-6cb5-4a30-98ba-99a648d40ebd",
   "metadata": {},
   "source": [
    "# Plotting Results"
   ]
  },
  {
   "cell_type": "code",
   "execution_count": null,
   "id": "061f160b-bce8-4d85-bcdf-af0d00eaddbe",
   "metadata": {},
   "outputs": [],
   "source": [
    "import matplotlib.pyplot as plt\n",
    "\n",
    "def plot(title, keys, res):\n",
    "    fig = plt.figure(figsize=(21, 9))\n",
    "    fig.suptitle(title)\n",
    "    for i, k in enumerate(keys):\n",
    "        c_plot = fig.add_subplot(2, 2, i+1)\n",
    "        c_plot.plot(\n",
    "            [l[0] for l in res[k]], \n",
    "            [l[1] for l in res[k]], \n",
    "            label = k\n",
    "        )\n",
    "        c_plot.set_ylabel(\"Mean\")\n",
    "        c_plot.set_xlabel(\"Sample Time\")\n",
    "        c_plot.legend()\n",
    "    fig.show()\n",
    "\n",
    "\n",
    "plot('Population Number', [\"#S\", \"#I\", \"#R\"], res)\n",
    "plot('Population Percentage', [\"%S\", \"%I\", \"%R\"], res)"
   ]
  },
  {
   "cell_type": "markdown",
   "id": "2fb9bdff-0aee-41bc-b234-dee3ef06e937",
   "metadata": {},
   "source": [
    "# Saving results"
   ]
  },
  {
   "cell_type": "code",
   "execution_count": null,
   "id": "146c789e-634b-468d-89df-54d8643288f7",
   "metadata": {},
   "outputs": [],
   "source": [
    "sibilla_runtime.save(\"results\", \"sir\", \"__\")"
   ]
  },
  {
   "cell_type": "code",
   "execution_count": null,
   "id": "71298f6c-60d0-4480-af49-6854991ae363",
   "metadata": {},
   "outputs": [],
   "source": []
  }
 ],
 "metadata": {
  "kernelspec": {
   "display_name": "Python 3 (ipykernel)",
   "language": "python",
   "name": "python3"
  },
  "language_info": {
   "codemirror_mode": {
    "name": "ipython",
    "version": 3
   },
   "file_extension": ".py",
   "mimetype": "text/x-python",
   "name": "python",
   "nbconvert_exporter": "python",
   "pygments_lexer": "ipython3",
   "version": "3.10.1"
  }
 },
 "nbformat": 4,
 "nbformat_minor": 5
}
