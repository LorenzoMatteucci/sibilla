{
 "cells": [
  {
   "cell_type": "markdown",
   "id": "3b90aad3-1244-49da-8c6c-de4a78e71210",
   "metadata": {},
   "source": [
    "# Importing sibilla"
   ]
  },
  {
   "cell_type": "code",
   "execution_count": 1,
   "id": "6e9048ed-c211-42b3-99b6-9541191239ab",
   "metadata": {},
   "outputs": [],
   "source": [
    "import sibilla"
   ]
  },
  {
   "cell_type": "markdown",
   "id": "629e1a8f-136c-4c19-9468-256552fbd13b",
   "metadata": {},
   "source": [
    "# Configuring simulation"
   ]
  },
  {
   "cell_type": "code",
   "execution_count": 7,
   "id": "189c6b24-c933-4f68-ae91-2810d152ffcf",
   "metadata": {},
   "outputs": [],
   "source": [
    "sibilla_runtime = sibilla.SibillaRuntime()\n",
    "sibilla_runtime.load_module(\"population\")\n",
    "sibilla_runtime.load_from_file(\"split.pm\")\n",
    "sibilla_runtime.set_parameter(\"scale\", 1.0)\n",
    "sibilla_runtime.set_configuration(\"stateA\")\n",
    "sibilla_runtime.add_all_measures()\n",
    "sibilla_runtime.set_deadline(100)\n",
    "sibilla_runtime.set_dt(1.0)\n",
    "sibilla_runtime.set_replica(100)"
   ]
  },
  {
   "cell_type": "markdown",
   "id": "36b4994b-e68f-4f25-a678-cb85bec27921",
   "metadata": {},
   "source": [
    "# Starting simulation"
   ]
  },
  {
   "cell_type": "code",
   "execution_count": null,
   "id": "738045e5-3cbf-41b7-a794-f8158cf4ef85",
   "metadata": {},
   "outputs": [],
   "source": [
    "res = sibilla_runtime.simulate(\"\")"
   ]
  },
  {
   "cell_type": "markdown",
   "id": "2fb9bdff-0aee-41bc-b234-dee3ef06e937",
   "metadata": {},
   "source": [
    "# Saving results"
   ]
  },
  {
   "cell_type": "code",
   "execution_count": 9,
   "id": "146c789e-634b-468d-89df-54d8643288f7",
   "metadata": {},
   "outputs": [],
   "source": [
    "sibilla_runtime.save(\"results\", \"split\", \"__\")"
   ]
  }
 ],
 "metadata": {
  "kernelspec": {
   "display_name": "Python 3 (ipykernel)",
   "language": "python",
   "name": "python3"
  },
  "language_info": {
   "codemirror_mode": {
    "name": "ipython",
    "version": 3
   },
   "file_extension": ".py",
   "mimetype": "text/x-python",
   "name": "python",
   "nbconvert_exporter": "python",
   "pygments_lexer": "ipython3",
   "version": "3.9.7"
  }
 },
 "nbformat": 4,
 "nbformat_minor": 5
}
